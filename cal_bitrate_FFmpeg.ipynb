{
 "cells": [
  {
   "cell_type": "code",
   "execution_count": 57,
   "id": "b2a3937b",
   "metadata": {},
   "outputs": [
    {
     "name": "stdout",
     "output_type": "stream",
     "text": [
      "Video Bitrate: 6083 Kbps\n"
     ]
    }
   ],
   "source": [
    "import subprocess\n",
    "import re\n",
    "\n",
    "def get_video_bitrate(video_file):\n",
    "    \"\"\"\n",
    "    Extracts the video bitrate of an MPEG-4 file using FFmpeg.\n",
    "\n",
    "    Parameters:\n",
    "    video_file (str): The path to the video file.\n",
    "\n",
    "    Returns:\n",
    "    str: The video bitrate in kilobits per second (Kbps) or an error message.\n",
    "    \"\"\"\n",
    "    # Construct the FFmpeg command to get file information\n",
    "    command = [\"ffmpeg\", \"-i\", video_file, \"-hide_banner\"]\n",
    "\n",
    "    # Execute the command and capture the output\n",
    "    try:\n",
    "        output = subprocess.check_output(command, stderr=subprocess.STDOUT, universal_newlines=True)\n",
    "    except subprocess.CalledProcessError as e:\n",
    "        output = e.output  # If FFmpeg errors, the output is still captured\n",
    "\n",
    "    # Search the output for bitrate information using regular expressions\n",
    "    bitrate_match = re.search(r\"bitrate: (\\d+) kb/s\", output)\n",
    "    \n",
    "    if bitrate_match:\n",
    "        return bitrate_match.group(1) + \" Kbps\"\n",
    "    else:\n",
    "        return \"Bitrate not found.\"\n",
    "\n",
    "# Example usage\n",
    "video_file_path = \"/home/nueng/IDS-Videos/01-Original/WW1-7/afternoon/WW1-7 3-15-2024, 3.16.59pm - 3-15-2024, 3.20.00pm.mp4\"  # Replace with your video file path\n",
    "bitrate = get_video_bitrate(video_file_path)\n",
    "print(f\"Video Bitrate: {bitrate}\")\n"
   ]
  },
  {
   "cell_type": "markdown",
   "id": "4985e1b4",
   "metadata": {},
   "source": []
  }
 ],
 "metadata": {
  "kernelspec": {
   "display_name": "Python 3 (ipykernel)",
   "language": "python",
   "name": "python3"
  },
  "language_info": {
   "codemirror_mode": {
    "name": "ipython",
    "version": 3
   },
   "file_extension": ".py",
   "mimetype": "text/x-python",
   "name": "python",
   "nbconvert_exporter": "python",
   "pygments_lexer": "ipython3",
   "version": "3.11.5"
  }
 },
 "nbformat": 4,
 "nbformat_minor": 5
}
